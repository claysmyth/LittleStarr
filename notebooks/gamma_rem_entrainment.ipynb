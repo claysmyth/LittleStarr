{
 "cells": [
  {
   "cell_type": "code",
   "execution_count": null,
   "outputs": [],
   "source": [
    "import os\n",
    "%load_ext autoreload\n",
    "%autoreload 2"
   ],
   "metadata": {
    "collapsed": false,
    "pycharm": {
     "name": "#%%\n"
    }
   }
  },
  {
   "cell_type": "code",
   "execution_count": null,
   "outputs": [],
   "source": [
    "# May be necessary to add the base path of LittleStarr directory to sys.path\n",
    "BASE_PATH = \"/home/claysmyth/code/\""
   ],
   "metadata": {
    "collapsed": false,
    "pycharm": {
     "name": "#%%\n"
    }
   }
  },
  {
   "cell_type": "code",
   "execution_count": null,
   "outputs": [],
   "source": [
    "BASE_PATH"
   ],
   "metadata": {
    "collapsed": false,
    "pycharm": {
     "name": "#%%\n"
    }
   }
  },
  {
   "cell_type": "code",
   "execution_count": null,
   "outputs": [],
   "source": [
    "import sys\n",
    "sys.path.append(\"/home/claysmyth/code/\")\n",
    "import pandas as pd\n",
    "import numpy as np\n",
    "import glob\n",
    "from functools import partial\n",
    "from LittleStarr.visualization_functions import rcs_visualization as rv\n",
    "import polars as pl\n",
    "from multipledispatch import dispatch\n",
    "import scipy.signal as signal\n",
    "import matplotlib.pyplot as plt\n",
    "import scipy.stats as stats\n",
    "from LittleStarr.data_processing import data_transforms as dt\n",
    "# from LittleStarr.analytics import utils as au\n",
    "# Throws error: from LittleStarr.analytics import signal_processing as sp\n",
    "import os\n",
    "import datetime\n",
    "from IPython.display import Markdown as md"
   ],
   "metadata": {
    "collapsed": false,
    "pycharm": {
     "name": "#%%\n"
    }
   }
  },
  {
   "cell_type": "code",
   "execution_count": null,
   "outputs": [],
   "source": [],
   "metadata": {
    "collapsed": false,
    "pycharm": {
     "name": "#%%\n"
    }
   }
  },
  {
   "cell_type": "code",
   "execution_count": 2,
   "metadata": {
    "pycharm": {
     "name": "#%%\n"
    },
    "tags": [
     "hide"
    ]
   },
   "outputs": [],
   "source": [
    "# May be necessary to add the base path of LittleStarr directory to sys.path\n",
    "BASE_PATH = \"/home/claysmyth/code/\""
   ]
  },
  {
   "cell_type": "code",
   "execution_count": 8,
   "metadata": {
    "pycharm": {
     "name": "#%%\n"
    },
    "tags": [
     "hide"
    ]
   },
   "outputs": [
    {
     "data": {
      "text/plain": [
       "'/home/claysmyth/code/'"
      ]
     },
     "execution_count": 8,
     "metadata": {},
     "output_type": "execute_result"
    }
   ],
   "source": [
    "BASE_PATH"
   ]
  },
  {
   "cell_type": "code",
   "execution_count": 7,
   "metadata": {
    "pycharm": {
     "name": "#%%\n"
    },
    "tags": [
     "hide"
    ]
   },
   "outputs": [],
   "source": [
    "import sys\n",
    "sys.path.append(\"/home/claysmyth/code/\")\n",
    "import pandas as pd\n",
    "import numpy as np\n",
    "import glob\n",
    "from functools import partial\n",
    "from LittleStarr.visualization_functions import rcs_visualization as rv\n",
    "import polars as pl\n",
    "from multipledispatch import dispatch\n",
    "import scipy.signal as signal\n",
    "import matplotlib.pyplot as plt\n",
    "import scipy.stats as stats\n",
    "from LittleStarr.data_processing import data_transforms as dt\n",
    "# from LittleStarr.analytics import utils as au\n",
    "# Throws error: from LittleStarr.analytics import signal_processing as sp\n",
    "import os\n",
    "import datetime\n",
    "from IPython.display import Markdown as md"
   ]
  },
  {
   "cell_type": "code",
   "execution_count": null,
   "metadata": {},
   "outputs": [],
   "source": []
  }
 ],
 "metadata": {
  "kernelspec": {
   "display_name": "Python 3",
   "language": "python",
   "name": "python3"
  },
  "language_info": {
   "codemirror_mode": {
    "name": "ipython",
    "version": 3
   },
   "file_extension": ".py",
   "mimetype": "text/x-python",
   "name": "python",
   "nbconvert_exporter": "python",
   "pygments_lexer": "ipython3",
   "version": "3.9.7"
  }
 },
 "nbformat": 4,
 "nbformat_minor": 0
}