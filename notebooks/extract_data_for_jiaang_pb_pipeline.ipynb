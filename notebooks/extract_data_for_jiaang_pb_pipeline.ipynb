{
 "cells": [
  {
   "cell_type": "code",
   "execution_count": 7,
   "metadata": {},
   "outputs": [],
   "source": [
    "import polars as pl\n",
    "import duckdb\n",
    "# TODO: Fix this import\n",
    "# from databasing.database_calls import get_device_as_pl_df"
   ]
  },
  {
   "cell_type": "code",
   "execution_count": 8,
   "metadata": {},
   "outputs": [],
   "source": [
    "con = duckdb.connect(database='/media/shortterm_ssd/Clay/databases/duckdb/rcs-db.duckdb', read_only=True)"
   ]
  },
  {
   "cell_type": "code",
   "execution_count": 9,
   "metadata": {},
   "outputs": [],
   "source": [
    "def get_device_as_pl_df(device, db_con, lazy=False, time_zone='America/Los_Angeles'):\n",
    "    \"\"\"\n",
    "    Accesses duckdb database and returns columns of interest, labeled reasonably with session identifiers cast as categoricals.\n",
    "    :param device: device name (str) (e.g. '02L')\n",
    "    :param db_con: duckdb connection object\n",
    "    :return: polars Dataframe\n",
    "    \"\"\"\n",
    "    db_con.sql(f\"SET TIMEZONE = '{time_zone}'\")\n",
    "    if lazy:\n",
    "        return db_con.sql(f\"select DerivedTime, columns('localTime'), columns('^Session|TD_|Power_Band'), SleepStage from overnight.r{device}\").pl().lazy().with_columns(\n",
    "            pl.col('^Session.*$').cast(pl.Categorical)\n",
    "        ).sort('localTime').select(pl.all().shrink_dtype())\n",
    "    else:\n",
    "        return db_con.sql(f\"select DerivedTime, columns('localTime'), columns('^Session|TD_|Power_Band'), SleepStage from overnight.r{device}\").pl().with_columns(\n",
    "            pl.col('^Session.*$').cast(pl.Categorical)\n",
    "        ).sort('localTime').select(pl.all().shrink_dtype())"
   ]
  },
  {
   "cell_type": "code",
   "execution_count": 10,
   "metadata": {},
   "outputs": [
    {
     "data": {
      "application/vnd.jupyter.widget-view+json": {
       "model_id": "82a18aabd16243dda2f471e9014d6ea8",
       "version_major": 2,
       "version_minor": 0
      },
      "text/plain": [
       "FloatProgress(value=0.0, layout=Layout(width='100%'), style=ProgressStyle(bar_color='black'))"
      ]
     },
     "metadata": {},
     "output_type": "display_data"
    }
   ],
   "source": [
    "df = get_device_as_pl_df('02L', con, lazy=False)"
   ]
  },
  {
   "cell_type": "code",
   "execution_count": 11,
   "metadata": {},
   "outputs": [
    {
     "data": {
      "text/html": [
       "<div><style>\n",
       ".dataframe > thead > tr > th,\n",
       ".dataframe > tbody > tr > td {\n",
       "  text-align: right;\n",
       "}\n",
       "</style>\n",
       "<small>shape: (5, 14)</small><table border=\"1\" class=\"dataframe\"><thead><tr><th>DerivedTime</th><th>localTime</th><th>TD_BG</th><th>TD_key2</th><th>TD_key3</th><th>Power_Band1</th><th>Power_Band2</th><th>Power_Band5</th><th>Power_Band6</th><th>Power_Band7</th><th>Power_Band8</th><th>Session#</th><th>SessionIdentity</th><th>SleepStage</th></tr><tr><td>f32</td><td>datetime[μs, America/Los_Angeles]</td><td>f32</td><td>f32</td><td>f32</td><td>f32</td><td>f32</td><td>f32</td><td>f32</td><td>f32</td><td>f32</td><td>cat</td><td>cat</td><td>f32</td></tr></thead><tbody><tr><td>1.6505e12</td><td>2022-04-20 23:14:10.001 PDT</td><td>null</td><td>null</td><td>null</td><td>null</td><td>null</td><td>null</td><td>null</td><td>null</td><td>null</td><td>&quot;Session1650521…</td><td>&quot;02L_04-21-22&quot;</td><td>6.0</td></tr><tr><td>1.6505e12</td><td>2022-04-20 23:14:10.003 PDT</td><td>null</td><td>null</td><td>null</td><td>null</td><td>null</td><td>null</td><td>null</td><td>null</td><td>null</td><td>&quot;Session1650521…</td><td>&quot;02L_04-21-22&quot;</td><td>6.0</td></tr><tr><td>1.6505e12</td><td>2022-04-20 23:14:10.005 PDT</td><td>null</td><td>null</td><td>null</td><td>null</td><td>null</td><td>null</td><td>null</td><td>null</td><td>null</td><td>&quot;Session1650521…</td><td>&quot;02L_04-21-22&quot;</td><td>6.0</td></tr><tr><td>1.6505e12</td><td>2022-04-20 23:14:10.007 PDT</td><td>null</td><td>null</td><td>null</td><td>null</td><td>null</td><td>null</td><td>null</td><td>null</td><td>null</td><td>&quot;Session1650521…</td><td>&quot;02L_04-21-22&quot;</td><td>6.0</td></tr><tr><td>1.6505e12</td><td>2022-04-20 23:14:10.009 PDT</td><td>null</td><td>null</td><td>null</td><td>null</td><td>null</td><td>null</td><td>null</td><td>null</td><td>null</td><td>&quot;Session1650521…</td><td>&quot;02L_04-21-22&quot;</td><td>6.0</td></tr></tbody></table></div>"
      ],
      "text/plain": [
       "shape: (5, 14)\n",
       "┌───────────┬─────────────┬───────┬─────────┬───┬───────────┬────────────┬────────────┬────────────┐\n",
       "│ DerivedTi ┆ localTime   ┆ TD_BG ┆ TD_key2 ┆ … ┆ Power_Ban ┆ Session#   ┆ SessionIde ┆ SleepStage │\n",
       "│ me        ┆ ---         ┆ ---   ┆ ---     ┆   ┆ d8        ┆ ---        ┆ ntity      ┆ ---        │\n",
       "│ ---       ┆ datetime[μs ┆ f32   ┆ f32     ┆   ┆ ---       ┆ cat        ┆ ---        ┆ f32        │\n",
       "│ f32       ┆ , America/L ┆       ┆         ┆   ┆ f32       ┆            ┆ cat        ┆            │\n",
       "│           ┆ os_Angeles] ┆       ┆         ┆   ┆           ┆            ┆            ┆            │\n",
       "╞═══════════╪═════════════╪═══════╪═════════╪═══╪═══════════╪════════════╪════════════╪════════════╡\n",
       "│ 1.6505e12 ┆ 2022-04-20  ┆ null  ┆ null    ┆ … ┆ null      ┆ Session165 ┆ 02L_04-21- ┆ 6.0        │\n",
       "│           ┆ 23:14:10.00 ┆       ┆         ┆   ┆           ┆ 0521639978 ┆ 22         ┆            │\n",
       "│           ┆ 1 PDT       ┆       ┆         ┆   ┆           ┆            ┆            ┆            │\n",
       "│ 1.6505e12 ┆ 2022-04-20  ┆ null  ┆ null    ┆ … ┆ null      ┆ Session165 ┆ 02L_04-21- ┆ 6.0        │\n",
       "│           ┆ 23:14:10.00 ┆       ┆         ┆   ┆           ┆ 0521639978 ┆ 22         ┆            │\n",
       "│           ┆ 3 PDT       ┆       ┆         ┆   ┆           ┆            ┆            ┆            │\n",
       "│ 1.6505e12 ┆ 2022-04-20  ┆ null  ┆ null    ┆ … ┆ null      ┆ Session165 ┆ 02L_04-21- ┆ 6.0        │\n",
       "│           ┆ 23:14:10.00 ┆       ┆         ┆   ┆           ┆ 0521639978 ┆ 22         ┆            │\n",
       "│           ┆ 5 PDT       ┆       ┆         ┆   ┆           ┆            ┆            ┆            │\n",
       "│ 1.6505e12 ┆ 2022-04-20  ┆ null  ┆ null    ┆ … ┆ null      ┆ Session165 ┆ 02L_04-21- ┆ 6.0        │\n",
       "│           ┆ 23:14:10.00 ┆       ┆         ┆   ┆           ┆ 0521639978 ┆ 22         ┆            │\n",
       "│           ┆ 7 PDT       ┆       ┆         ┆   ┆           ┆            ┆            ┆            │\n",
       "│ 1.6505e12 ┆ 2022-04-20  ┆ null  ┆ null    ┆ … ┆ null      ┆ Session165 ┆ 02L_04-21- ┆ 6.0        │\n",
       "│           ┆ 23:14:10.00 ┆       ┆         ┆   ┆           ┆ 0521639978 ┆ 22         ┆            │\n",
       "│           ┆ 9 PDT       ┆       ┆         ┆   ┆           ┆            ┆            ┆            │\n",
       "└───────────┴─────────────┴───────┴─────────┴───┴───────────┴────────────┴────────────┴────────────┘"
      ]
     },
     "execution_count": 11,
     "metadata": {},
     "output_type": "execute_result"
    }
   ],
   "source": [
    "df.head()"
   ]
  },
  {
   "cell_type": "code",
   "execution_count": 14,
   "metadata": {},
   "outputs": [],
   "source": [
    "df = df.select(pl.all().exclude('^DerivedTime$|^Power_Band.*$'))"
   ]
  },
  {
   "cell_type": "code",
   "execution_count": 19,
   "metadata": {},
   "outputs": [],
   "source": [
    "sleep_stage_mapping = {\n",
    "    1: 0, 2: 1, 3: 1, 4: 0, 5: 0, 6: 0\n",
    "}\n",
    "\n",
    "df_session = df.filter(pl.col('SessionIdentity') == '02L_04-21-22').select(pl.all().exclude('^Session.*$')).with_columns(\n",
    "    pl.col('TD_BG').alias('TD_BG_copy'),\n",
    "    pl.lit(500).alias('samplerate'),\n",
    "    pl.lit(2.7).alias('stim'),\n",
    "    pl.col(\"SleepStage\").map_dict(sleep_stage_mapping).alias(\"SleepStageBinary\")\n",
    ").filter(pl.col('TD_BG').is_not_null())"
   ]
  },
  {
   "cell_type": "code",
   "execution_count": 20,
   "metadata": {},
   "outputs": [
    {
     "data": {
      "text/html": [
       "<div><style>\n",
       ".dataframe > thead > tr > th,\n",
       ".dataframe > tbody > tr > td {\n",
       "  text-align: right;\n",
       "}\n",
       "</style>\n",
       "<small>shape: (5, 9)</small><table border=\"1\" class=\"dataframe\"><thead><tr><th>localTime</th><th>TD_BG</th><th>TD_key2</th><th>TD_key3</th><th>SleepStage</th><th>TD_BG_copy</th><th>samplerate</th><th>stim</th><th>SleepStageBinary</th></tr><tr><td>datetime[μs, America/Los_Angeles]</td><td>f32</td><td>f32</td><td>f32</td><td>f32</td><td>f32</td><td>i32</td><td>f64</td><td>i64</td></tr></thead><tbody><tr><td>2022-04-20 23:14:10.101 PDT</td><td>-0.860712</td><td>2.581962</td><td>2.417944</td><td>6.0</td><td>-0.860712</td><td>500</td><td>2.7</td><td>0</td></tr><tr><td>2022-04-20 23:14:10.103 PDT</td><td>-1.307446</td><td>2.581962</td><td>2.318603</td><td>6.0</td><td>-1.307446</td><td>500</td><td>2.7</td><td>0</td></tr><tr><td>2022-04-20 23:14:10.105 PDT</td><td>-1.138362</td><td>2.581962</td><td>2.123734</td><td>6.0</td><td>-1.138362</td><td>500</td><td>2.7</td><td>0</td></tr><tr><td>2022-04-20 23:14:10.107 PDT</td><td>-0.70204</td><td>2.581962</td><td>2.242573</td><td>6.0</td><td>-0.70204</td><td>500</td><td>2.7</td><td>0</td></tr><tr><td>2022-04-20 23:14:10.109 PDT</td><td>-0.901275</td><td>2.581962</td><td>2.371215</td><td>6.0</td><td>-0.901275</td><td>500</td><td>2.7</td><td>0</td></tr></tbody></table></div>"
      ],
      "text/plain": [
       "shape: (5, 9)\n",
       "┌──────────────┬───────────┬──────────┬──────────┬───┬────────────┬────────────┬──────┬────────────┐\n",
       "│ localTime    ┆ TD_BG     ┆ TD_key2  ┆ TD_key3  ┆ … ┆ TD_BG_copy ┆ samplerate ┆ stim ┆ SleepStage │\n",
       "│ ---          ┆ ---       ┆ ---      ┆ ---      ┆   ┆ ---        ┆ ---        ┆ ---  ┆ Binary     │\n",
       "│ datetime[μs, ┆ f32       ┆ f32      ┆ f32      ┆   ┆ f32        ┆ i32        ┆ f64  ┆ ---        │\n",
       "│ America/Los_ ┆           ┆          ┆          ┆   ┆            ┆            ┆      ┆ i64        │\n",
       "│ Angeles]     ┆           ┆          ┆          ┆   ┆            ┆            ┆      ┆            │\n",
       "╞══════════════╪═══════════╪══════════╪══════════╪═══╪════════════╪════════════╪══════╪════════════╡\n",
       "│ 2022-04-20   ┆ -0.860712 ┆ 2.581962 ┆ 2.417944 ┆ … ┆ -0.860712  ┆ 500        ┆ 2.7  ┆ 0          │\n",
       "│ 23:14:10.101 ┆           ┆          ┆          ┆   ┆            ┆            ┆      ┆            │\n",
       "│ PDT          ┆           ┆          ┆          ┆   ┆            ┆            ┆      ┆            │\n",
       "│ 2022-04-20   ┆ -1.307446 ┆ 2.581962 ┆ 2.318603 ┆ … ┆ -1.307446  ┆ 500        ┆ 2.7  ┆ 0          │\n",
       "│ 23:14:10.103 ┆           ┆          ┆          ┆   ┆            ┆            ┆      ┆            │\n",
       "│ PDT          ┆           ┆          ┆          ┆   ┆            ┆            ┆      ┆            │\n",
       "│ 2022-04-20   ┆ -1.138362 ┆ 2.581962 ┆ 2.123734 ┆ … ┆ -1.138362  ┆ 500        ┆ 2.7  ┆ 0          │\n",
       "│ 23:14:10.105 ┆           ┆          ┆          ┆   ┆            ┆            ┆      ┆            │\n",
       "│ PDT          ┆           ┆          ┆          ┆   ┆            ┆            ┆      ┆            │\n",
       "│ 2022-04-20   ┆ -0.70204  ┆ 2.581962 ┆ 2.242573 ┆ … ┆ -0.70204   ┆ 500        ┆ 2.7  ┆ 0          │\n",
       "│ 23:14:10.107 ┆           ┆          ┆          ┆   ┆            ┆            ┆      ┆            │\n",
       "│ PDT          ┆           ┆          ┆          ┆   ┆            ┆            ┆      ┆            │\n",
       "│ 2022-04-20   ┆ -0.901275 ┆ 2.581962 ┆ 2.371215 ┆ … ┆ -0.901275  ┆ 500        ┆ 2.7  ┆ 0          │\n",
       "│ 23:14:10.109 ┆           ┆          ┆          ┆   ┆            ┆            ┆      ┆            │\n",
       "│ PDT          ┆           ┆          ┆          ┆   ┆            ┆            ┆      ┆            │\n",
       "└──────────────┴───────────┴──────────┴──────────┴───┴────────────┴────────────┴──────┴────────────┘"
      ]
     },
     "execution_count": 20,
     "metadata": {},
     "output_type": "execute_result"
    }
   ],
   "source": [
    "df_session.head()"
   ]
  },
  {
   "cell_type": "code",
   "execution_count": 25,
   "metadata": {},
   "outputs": [],
   "source": [
    "df_session = df_session.select(\n",
    "    pl.col('localTime'),\n",
    "    pl.col('TD_BG').alias('key0'),\n",
    "    pl.col('TD_BG_copy').alias('key1'),\n",
    "    pl.col('TD_key2').alias('key2'),\n",
    "    pl.col('TD_key3').alias('key3'),\n",
    "    pl.col('stim'),\n",
    "    pl.col('samplerate'),\n",
    "    pl.col('^SleepStage.*$')\n",
    ")"
   ]
  },
  {
   "cell_type": "code",
   "execution_count": 22,
   "metadata": {},
   "outputs": [],
   "source": [
    "df_session.write_csv('/media/longterm_hdd/Clay/02L_04-21-22.csv')"
   ]
  },
  {
   "cell_type": "code",
   "execution_count": null,
   "metadata": {},
   "outputs": [],
   "source": []
  }
 ],
 "metadata": {
  "kernelspec": {
   "display_name": "sleepclass",
   "language": "python",
   "name": "python3"
  },
  "language_info": {
   "codemirror_mode": {
    "name": "ipython",
    "version": 3
   },
   "file_extension": ".py",
   "mimetype": "text/x-python",
   "name": "python",
   "nbconvert_exporter": "python",
   "pygments_lexer": "ipython3",
   "version": "3.10.6"
  },
  "orig_nbformat": 4
 },
 "nbformat": 4,
 "nbformat_minor": 2
}
