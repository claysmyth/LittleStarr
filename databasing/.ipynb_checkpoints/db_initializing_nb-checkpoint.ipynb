{
 "cells": [
  {
   "cell_type": "code",
   "execution_count": 14,
   "metadata": {
    "collapsed": true
   },
   "outputs": [],
   "source": [
    "import duckdb\n",
    "import polars as pl\n",
    "import altair as alt\n",
    "import pandas as pd\n",
    "import pyarrow as pa"
   ]
  },
  {
   "cell_type": "markdown",
   "metadata": {},
   "source": [
    "# Play-around code to get a sense of Duckdb, polars, and altair"
   ]
  },
  {
   "cell_type": "code",
   "execution_count": 3,
   "metadata": {},
   "outputs": [],
   "source": [
    "con = duckdb.connect(database='/media/shortterm_ssd/Clay/databases/duckdb/rcs-db.duckdb')"
   ]
  },
  {
   "cell_type": "code",
   "execution_count": 3,
   "metadata": {},
   "outputs": [
    {
     "data": {
      "text/plain": [
       "<duckdb.DuckDBPyConnection at 0x7fcaeb4163b0>"
      ]
     },
     "execution_count": 3,
     "metadata": {},
     "output_type": "execute_result"
    }
   ],
   "source": [
    "con.execute(\"CREATE SCHEMA overnight;\")"
   ]
  },
  {
   "cell_type": "code",
   "execution_count": 4,
   "metadata": {},
   "outputs": [
    {
     "data": {
      "text/plain": [
       "<duckdb.DuckDBPyConnection at 0x7fcaeb4163b0>"
      ]
     },
     "execution_count": 4,
     "metadata": {},
     "output_type": "execute_result"
    }
   ],
   "source": [
    "con.execute(\"CREATE TABLE overnight.r02L AS SELECT * FROM '/media/shortterm_ssd/Clay/databases/Sleep_10day_with_autonomic/RCS02L/Overnight/*.parquet'\")"
   ]
  },
  {
   "cell_type": "code",
   "execution_count": 13,
   "metadata": {},
   "outputs": [
    {
     "data": {
      "text/plain": [
       "[('localTime', 'TIMESTAMP', 'YES', None, None, None),\n",
       " ('DerivedTime', 'DOUBLE', 'YES', None, None, None),\n",
       " ('TD_key0', 'DOUBLE', 'YES', None, None, None),\n",
       " ('TD_key2', 'DOUBLE', 'YES', None, None, None),\n",
       " ('TD_key3', 'DOUBLE', 'YES', None, None, None),\n",
       " ('Accel_XSamples', 'DOUBLE', 'YES', None, None, None),\n",
       " ('Accel_YSamples', 'DOUBLE', 'YES', None, None, None),\n",
       " ('Accel_ZSamples', 'DOUBLE', 'YES', None, None, None),\n",
       " ('Accel_samplerate', 'DOUBLE', 'YES', None, None, None),\n",
       " ('Power_IsPowerChannelOverrange', 'DOUBLE', 'YES', None, None, None),\n",
       " ('Power_Band1', 'DOUBLE', 'YES', None, None, None),\n",
       " ('Power_Band2', 'DOUBLE', 'YES', None, None, None),\n",
       " ('Power_Band3', 'DOUBLE', 'YES', None, None, None),\n",
       " ('Power_Band4', 'DOUBLE', 'YES', None, None, None),\n",
       " ('Power_Band5', 'DOUBLE', 'YES', None, None, None),\n",
       " ('Power_Band6', 'DOUBLE', 'YES', None, None, None),\n",
       " ('Power_Band7', 'DOUBLE', 'YES', None, None, None),\n",
       " ('Power_Band8', 'DOUBLE', 'YES', None, None, None),\n",
       " ('PO_infrared_filtered', 'DOUBLE', 'YES', None, None, None),\n",
       " ('PO_infrared_raw', 'DOUBLE', 'YES', None, None, None),\n",
       " ('PO_red_filtered', 'DOUBLE', 'YES', None, None, None),\n",
       " ('PO_red_raw', 'DOUBLE', 'YES', None, None, None),\n",
       " ('positiongram', 'DOUBLE', 'YES', None, None, None),\n",
       " ('PulseOxyInfrared', 'DOUBLE', 'YES', None, None, None),\n",
       " ('RespirationX', 'DOUBLE', 'YES', None, None, None),\n",
       " ('RespirationY', 'DOUBLE', 'YES', None, None, None),\n",
       " ('RespirationZ', 'DOUBLE', 'YES', None, None, None),\n",
       " ('SleepStage', 'DOUBLE', 'YES', None, None, None)]"
      ]
     },
     "execution_count": 13,
     "metadata": {},
     "output_type": "execute_result"
    }
   ],
   "source": [
    "con.execute(\"DESCRIBE overnight.r02L\")\n",
    "con.fetchall()"
   ]
  },
  {
   "cell_type": "code",
   "execution_count": 22,
   "metadata": {},
   "outputs": [
    {
     "ename": "ParserException",
     "evalue": "Parser Error: syntax error at or near \"*\"\nLINE 1: SELECT * FROM overnight.r02L WHERE * LIKE 'Power_Band%' AND COLUMNS('Power...\n                                           ^",
     "output_type": "error",
     "traceback": [
      "\u001b[0;31m---------------------------------------------------------------------------\u001b[0m",
      "\u001b[0;31mParserException\u001b[0m                           Traceback (most recent call last)",
      "\u001b[0;32m/tmp/ipykernel_2105120/192057437.py\u001b[0m in \u001b[0;36m<cell line: 1>\u001b[0;34m()\u001b[0m\n\u001b[0;32m----> 1\u001b[0;31m \u001b[0mtbl\u001b[0m \u001b[0;34m=\u001b[0m \u001b[0mcon\u001b[0m\u001b[0;34m.\u001b[0m\u001b[0mexecute\u001b[0m\u001b[0;34m(\u001b[0m\u001b[0;34m\"SELECT * FROM overnight.r02L WHERE * LIKE 'Power_Band%' AND COLUMNS('Power_Band1') IS NOT NULL\"\u001b[0m\u001b[0;34m)\u001b[0m\u001b[0;34m.\u001b[0m\u001b[0mdf\u001b[0m\u001b[0;34m(\u001b[0m\u001b[0;34m)\u001b[0m\u001b[0;34m\u001b[0m\u001b[0;34m\u001b[0m\u001b[0m\n\u001b[0m",
      "\u001b[0;31mParserException\u001b[0m: Parser Error: syntax error at or near \"*\"\nLINE 1: SELECT * FROM overnight.r02L WHERE * LIKE 'Power_Band%' AND COLUMNS('Power...\n                                           ^"
     ]
    }
   ],
   "source": [
    "tbl = con.execute(\"SELECT * FROM overnight.r02L WHERE * LIKE 'Power_Band%' AND COLUMNS('Power_Band1') IS NOT NULL\").df()"
   ]
  },
  {
   "cell_type": "code",
   "execution_count": 57,
   "metadata": {},
   "outputs": [
    {
     "name": "stdout",
     "output_type": "stream",
     "text": [
      "DerivedTime, Power_Band1\n"
     ]
    }
   ],
   "source": [
    "cols = ['DerivedTime', 'Power_Band1']\n",
    "pl_holder = '?'\n",
    "pl_holder = ', '.join(pl_holder for i in cols)\n",
    "print(f\"{', '.join(col for col in cols)}\")\n",
    "tbl = con.execute(f\"select {', '.join(col for col in cols)} from overnight.r02L where Power_Band1 is not null\").df()"
   ]
  },
  {
   "cell_type": "code",
   "execution_count": 58,
   "metadata": {},
   "outputs": [
    {
     "data": {
      "text/html": [
       "<div>\n",
       "<style scoped>\n",
       "    .dataframe tbody tr th:only-of-type {\n",
       "        vertical-align: middle;\n",
       "    }\n",
       "\n",
       "    .dataframe tbody tr th {\n",
       "        vertical-align: top;\n",
       "    }\n",
       "\n",
       "    .dataframe thead th {\n",
       "        text-align: right;\n",
       "    }\n",
       "</style>\n",
       "<table border=\"1\" class=\"dataframe\">\n",
       "  <thead>\n",
       "    <tr style=\"text-align: right;\">\n",
       "      <th></th>\n",
       "      <th>DerivedTime</th>\n",
       "      <th>Power_Band1</th>\n",
       "    </tr>\n",
       "  </thead>\n",
       "  <tbody>\n",
       "    <tr>\n",
       "      <th>0</th>\n",
       "      <td>1.650952e+12</td>\n",
       "      <td>95016.0</td>\n",
       "    </tr>\n",
       "    <tr>\n",
       "      <th>1</th>\n",
       "      <td>1.650952e+12</td>\n",
       "      <td>906.0</td>\n",
       "    </tr>\n",
       "    <tr>\n",
       "      <th>2</th>\n",
       "      <td>1.650952e+12</td>\n",
       "      <td>882.0</td>\n",
       "    </tr>\n",
       "    <tr>\n",
       "      <th>3</th>\n",
       "      <td>1.650952e+12</td>\n",
       "      <td>577.0</td>\n",
       "    </tr>\n",
       "    <tr>\n",
       "      <th>4</th>\n",
       "      <td>1.650952e+12</td>\n",
       "      <td>571.0</td>\n",
       "    </tr>\n",
       "  </tbody>\n",
       "</table>\n",
       "</div>"
      ],
      "text/plain": [
       "    DerivedTime  Power_Band1\n",
       "0  1.650952e+12      95016.0\n",
       "1  1.650952e+12        906.0\n",
       "2  1.650952e+12        882.0\n",
       "3  1.650952e+12        577.0\n",
       "4  1.650952e+12        571.0"
      ]
     },
     "execution_count": 58,
     "metadata": {},
     "output_type": "execute_result"
    }
   ],
   "source": [
    "tbl.head()"
   ]
  },
  {
   "cell_type": "code",
   "execution_count": null,
   "metadata": {},
   "outputs": [],
   "source": []
  }
 ],
 "metadata": {
  "kernelspec": {
   "display_name": "Python 3 (ipykernel)",
   "language": "python",
   "name": "python3"
  },
  "language_info": {
   "codemirror_mode": {
    "name": "ipython",
    "version": 3
   },
   "file_extension": ".py",
   "mimetype": "text/x-python",
   "name": "python",
   "nbconvert_exporter": "python",
   "pygments_lexer": "ipython3",
   "version": "3.10.6"
  }
 },
 "nbformat": 4,
 "nbformat_minor": 1
}
