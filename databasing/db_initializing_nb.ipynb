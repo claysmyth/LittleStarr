{
 "cells": [
  {
   "cell_type": "code",
   "execution_count": 14,
   "metadata": {
    "collapsed": true
   },
   "outputs": [],
   "source": [
    "import duckdb\n",
    "import polars as pl\n",
    "import altair as alt\n",
    "import pandas as pd\n",
    "import pyarrow as pa"
   ]
  },
  {
   "cell_type": "markdown",
   "metadata": {},
   "source": [
    "# Play-around code to get a sense of Duckdb, polars, and altair"
   ]
  },
  {
   "cell_type": "code",
   "execution_count": 3,
   "metadata": {},
   "outputs": [],
   "source": [
    "con = duckdb.connect(database='/media/shortterm_ssd/Clay/databases/duckdb/rcs-db.duckdb')"
   ]
  },
  {
   "cell_type": "code",
   "execution_count": 3,
   "metadata": {},
   "outputs": [
    {
     "data": {
      "text/plain": [
       "<duckdb.DuckDBPyConnection at 0x7fcaeb4163b0>"
      ]
     },
     "execution_count": 3,
     "metadata": {},
     "output_type": "execute_result"
    }
   ],
   "source": [
    "con.execute(\"CREATE SCHEMA overnight;\")"
   ]
  },
  {
   "cell_type": "code",
   "execution_count": 4,
   "metadata": {},
   "outputs": [
    {
     "data": {
      "text/plain": [
       "<duckdb.DuckDBPyConnection at 0x7fcaeb4163b0>"
      ]
     },
     "execution_count": 4,
     "metadata": {},
     "output_type": "execute_result"
    }
   ],
   "source": [
    "con.execute(\"CREATE TABLE overnight.r02L AS SELECT * FROM '/media/shortterm_ssd/Clay/databases/Sleep_10day_with_autonomic/RCS02L/Overnight/*.parquet'\")"
   ]
  },
  {
   "cell_type": "code",
   "execution_count": 88,
   "metadata": {},
   "outputs": [
    {
     "data": {
      "text/plain": [
       "[('localTime', 'TIMESTAMP', 'YES', None, None, None),\n",
       " ('DerivedTime', 'DOUBLE', 'YES', None, None, None),\n",
       " ('TD_key0', 'DOUBLE', 'YES', None, None, None),\n",
       " ('TD_key2', 'DOUBLE', 'YES', None, None, None),\n",
       " ('TD_key3', 'DOUBLE', 'YES', None, None, None),\n",
       " ('Accel_XSamples', 'DOUBLE', 'YES', None, None, None),\n",
       " ('Accel_YSamples', 'DOUBLE', 'YES', None, None, None),\n",
       " ('Accel_ZSamples', 'DOUBLE', 'YES', None, None, None),\n",
       " ('Accel_samplerate', 'DOUBLE', 'YES', None, None, None),\n",
       " ('Power_IsPowerChannelOverrange', 'DOUBLE', 'YES', None, None, None),\n",
       " ('Power_Band1', 'DOUBLE', 'YES', None, None, None),\n",
       " ('Power_Band2', 'DOUBLE', 'YES', None, None, None),\n",
       " ('Power_Band3', 'DOUBLE', 'YES', None, None, None),\n",
       " ('Power_Band4', 'DOUBLE', 'YES', None, None, None),\n",
       " ('Power_Band5', 'DOUBLE', 'YES', None, None, None),\n",
       " ('Power_Band6', 'DOUBLE', 'YES', None, None, None),\n",
       " ('Power_Band7', 'DOUBLE', 'YES', None, None, None),\n",
       " ('Power_Band8', 'DOUBLE', 'YES', None, None, None),\n",
       " ('PO_infrared_filtered', 'DOUBLE', 'YES', None, None, None),\n",
       " ('PO_infrared_raw', 'DOUBLE', 'YES', None, None, None),\n",
       " ('PO_red_filtered', 'DOUBLE', 'YES', None, None, None),\n",
       " ('PO_red_raw', 'DOUBLE', 'YES', None, None, None),\n",
       " ('positiongram', 'DOUBLE', 'YES', None, None, None),\n",
       " ('PulseOxyInfrared', 'DOUBLE', 'YES', None, None, None),\n",
       " ('RespirationX', 'DOUBLE', 'YES', None, None, None),\n",
       " ('RespirationY', 'DOUBLE', 'YES', None, None, None),\n",
       " ('RespirationZ', 'DOUBLE', 'YES', None, None, None),\n",
       " ('SleepStage', 'DOUBLE', 'YES', None, None, None)]"
      ]
     },
     "execution_count": 88,
     "metadata": {},
     "output_type": "execute_result"
    }
   ],
   "source": [
    "con.execute(\"DESCRIBE overnight.r02L\")\n",
    "con.fetchall()"
   ]
  },
  {
   "cell_type": "code",
   "execution_count": 22,
   "metadata": {},
   "outputs": [
    {
     "ename": "ParserException",
     "evalue": "Parser Error: syntax error at or near \"*\"\nLINE 1: SELECT * FROM overnight.r02L WHERE * LIKE 'Power_Band%' AND COLUMNS('Power...\n                                           ^",
     "output_type": "error",
     "traceback": [
      "\u001B[0;31m---------------------------------------------------------------------------\u001B[0m",
      "\u001B[0;31mParserException\u001B[0m                           Traceback (most recent call last)",
      "\u001B[0;32m/tmp/ipykernel_2105120/192057437.py\u001B[0m in \u001B[0;36m<cell line: 1>\u001B[0;34m()\u001B[0m\n\u001B[0;32m----> 1\u001B[0;31m \u001B[0mtbl\u001B[0m \u001B[0;34m=\u001B[0m \u001B[0mcon\u001B[0m\u001B[0;34m.\u001B[0m\u001B[0mexecute\u001B[0m\u001B[0;34m(\u001B[0m\u001B[0;34m\"SELECT * FROM overnight.r02L WHERE * LIKE 'Power_Band%' AND COLUMNS('Power_Band1') IS NOT NULL\"\u001B[0m\u001B[0;34m)\u001B[0m\u001B[0;34m.\u001B[0m\u001B[0mdf\u001B[0m\u001B[0;34m(\u001B[0m\u001B[0;34m)\u001B[0m\u001B[0;34m\u001B[0m\u001B[0;34m\u001B[0m\u001B[0m\n\u001B[0m",
      "\u001B[0;31mParserException\u001B[0m: Parser Error: syntax error at or near \"*\"\nLINE 1: SELECT * FROM overnight.r02L WHERE * LIKE 'Power_Band%' AND COLUMNS('Power...\n                                           ^"
     ]
    }
   ],
   "source": [
    "tbl = con.execute(\"SELECT * FROM overnight.r02L WHERE * LIKE 'Power_Band%' AND COLUMNS('Power_Band1') IS NOT NULL\").df()"
   ]
  },
  {
   "cell_type": "code",
   "execution_count": 78,
   "metadata": {},
   "outputs": [
    {
     "name": "stdout",
     "output_type": "stream",
     "text": [
      "CPU times: user 4.61 s, sys: 37.1 ms, total: 4.65 s\n",
      "Wall time: 4.65 s\n"
     ]
    }
   ],
   "source": [
    "%%time\n",
    "cols = ['DerivedTime', 'Power_Band1']\n",
    "tbl = con.execute(f\"select columns('^Power_Band|DerivedTime') from overnight.r02L where Power_Band1 is not null\").df()"
   ]
  },
  {
   "cell_type": "code",
   "execution_count": 79,
   "metadata": {},
   "outputs": [
    {
     "name": "stdout",
     "output_type": "stream",
     "text": [
      "CPU times: user 4.73 s, sys: 41.6 ms, total: 4.77 s\n",
      "Wall time: 4.72 s\n"
     ]
    }
   ],
   "source": [
    "%%time\n",
    "cols = ['DerivedTime', 'Power_Band1']\n",
    "tbl_2 = pl.DataFrame(con.execute(f\"select columns('^Power_Band|DerivedTime') from overnight.r02L where Power_Band1 is not null\").arrow())\n"
   ]
  },
  {
   "cell_type": "code",
   "execution_count": 96,
   "metadata": {},
   "outputs": [
    {
     "name": "stdout",
     "output_type": "stream",
     "text": [
      "CPU times: user 2.84 s, sys: 24.2 s, total: 27 s\n",
      "Wall time: 27.3 s\n"
     ]
    },
    {
     "data": {
      "text/html": [
       "<div>\n",
       "<style scoped>\n",
       "    .dataframe tbody tr th:only-of-type {\n",
       "        vertical-align: middle;\n",
       "    }\n",
       "\n",
       "    .dataframe tbody tr th {\n",
       "        vertical-align: top;\n",
       "    }\n",
       "\n",
       "    .dataframe thead th {\n",
       "        text-align: right;\n",
       "    }\n",
       "</style>\n",
       "<table border=\"1\" class=\"dataframe\">\n",
       "  <thead>\n",
       "    <tr style=\"text-align: right;\">\n",
       "      <th></th>\n",
       "      <th>DerivedTime</th>\n",
       "      <th>TD_key0</th>\n",
       "      <th>TD_key2</th>\n",
       "      <th>TD_key3</th>\n",
       "    </tr>\n",
       "  </thead>\n",
       "  <tbody>\n",
       "    <tr>\n",
       "      <th>0</th>\n",
       "      <td>1.650952e+12</td>\n",
       "      <td>-0.265827</td>\n",
       "      <td>0.015227</td>\n",
       "      <td>0.084200</td>\n",
       "    </tr>\n",
       "    <tr>\n",
       "      <th>1</th>\n",
       "      <td>1.650952e+12</td>\n",
       "      <td>0.210623</td>\n",
       "      <td>-0.016847</td>\n",
       "      <td>0.033114</td>\n",
       "    </tr>\n",
       "    <tr>\n",
       "      <th>2</th>\n",
       "      <td>1.650952e+12</td>\n",
       "      <td>0.281445</td>\n",
       "      <td>0.143844</td>\n",
       "      <td>0.181362</td>\n",
       "    </tr>\n",
       "    <tr>\n",
       "      <th>3</th>\n",
       "      <td>1.650952e+12</td>\n",
       "      <td>-0.203356</td>\n",
       "      <td>0.141900</td>\n",
       "      <td>0.192037</td>\n",
       "    </tr>\n",
       "    <tr>\n",
       "      <th>4</th>\n",
       "      <td>1.650952e+12</td>\n",
       "      <td>-0.206068</td>\n",
       "      <td>0.006048</td>\n",
       "      <td>0.064158</td>\n",
       "    </tr>\n",
       "  </tbody>\n",
       "</table>\n",
       "</div>"
      ],
      "text/plain": [
       "    DerivedTime   TD_key0   TD_key2   TD_key3\n",
       "0  1.650952e+12 -0.265827  0.015227  0.084200\n",
       "1  1.650952e+12  0.210623 -0.016847  0.033114\n",
       "2  1.650952e+12  0.281445  0.143844  0.181362\n",
       "3  1.650952e+12 -0.203356  0.141900  0.192037\n",
       "4  1.650952e+12 -0.206068  0.006048  0.064158"
      ]
     },
     "execution_count": 96,
     "metadata": {},
     "output_type": "execute_result"
    }
   ],
   "source": [
    "%%time\n",
    "out = con.execute(f\"select columns('DerivedTime|^TD_key') from overnight.r02L where TD_key0 is not null\")\n",
    "out.df().head()"
   ]
  },
  {
   "cell_type": "code",
   "execution_count": 98,
   "metadata": {},
   "outputs": [
    {
     "name": "stdout",
     "output_type": "stream",
     "text": [
      "CPU times: user 2.19 ms, sys: 0 ns, total: 2.19 ms\n",
      "Wall time: 1.12 ms\n"
     ]
    }
   ],
   "source": [
    "%%time\n",
    "out = con.execute(f\"select columns('DerivedTime|^TD_key') from overnight.r02L where TD_key0 is not null\")\n",
    "pl.DataFrame(out.arrow()).head()"
   ]
  },
  {
   "cell_type": "code",
   "execution_count": 111,
   "metadata": {},
   "outputs": [
    {
     "data": {
      "text/plain": [
       "column_name: string\n",
       "column_type: string\n",
       "min: string\n",
       "max: string\n",
       "approx_unique: string\n",
       "avg: string\n",
       "std: string\n",
       "q25: string\n",
       "q50: string\n",
       "q75: string\n",
       "count: int64\n",
       "null_percentage: string"
      ]
     },
     "execution_count": 111,
     "metadata": {},
     "output_type": "execute_result"
    }
   ],
   "source": [
    "con.execute(\"summarize overnight.r02L\").arrow()"
   ]
  },
  {
   "cell_type": "code",
   "execution_count": 107,
   "metadata": {},
   "outputs": [
    {
     "ename": "BinderException",
     "evalue": "Binder Error: WHERE clause cannot contain aggregates!\nLINE 4: where @(TD_key0 - mean(TD_key0))/STDDEV(TD_key0) < 4 and TD_key0 is not null\n...\n                          ^",
     "output_type": "error",
     "traceback": [
      "\u001B[0;31m---------------------------------------------------------------------------\u001B[0m",
      "\u001B[0;31mBinderException\u001B[0m                           Traceback (most recent call last)",
      "\u001B[0;32m<timed exec>\u001B[0m in \u001B[0;36m<module>\u001B[0;34m\u001B[0m\n",
      "\u001B[0;31mBinderException\u001B[0m: Binder Error: WHERE clause cannot contain aggregates!\nLINE 4: where @(TD_key0 - mean(TD_key0))/STDDEV(TD_key0) < 4 and TD_key0 is not null\n...\n                          ^"
     ]
    }
   ],
   "source": [
    "%%time\n",
    "command = \"\"\"\n",
    "select columns('DerivedTime|^TD_key')\n",
    "from overnight.r02L\n",
    "where @(TD_key0 - mean(TD_key0))/STDDEV(TD_key0) < 4 and TD_key0 is not null\n",
    "\"\"\"\n",
    "out = con.execute(command)\n",
    "pl.DataFrame(out.arrow()).head()"
   ]
  },
  {
   "cell_type": "code",
   "execution_count": null,
   "outputs": [],
   "source": [],
   "metadata": {
    "collapsed": false
   }
  }
 ],
 "metadata": {
  "kernelspec": {
   "display_name": "Python 3 (ipykernel)",
   "language": "python",
   "name": "python3"
  },
  "language_info": {
   "codemirror_mode": {
    "name": "ipython",
    "version": 3
   },
   "file_extension": ".py",
   "mimetype": "text/x-python",
   "name": "python",
   "nbconvert_exporter": "python",
   "pygments_lexer": "ipython3",
   "version": "3.10.6"
  }
 },
 "nbformat": 4,
 "nbformat_minor": 1
}
